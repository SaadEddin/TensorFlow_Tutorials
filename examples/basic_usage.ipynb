{
 "cells": [
  {
   "cell_type": "markdown",
   "metadata": {},
   "source": [
    "## Matrix Multiplication"
   ]
  },
  {
   "cell_type": "code",
   "execution_count": 6,
   "metadata": {
    "collapsed": true
   },
   "outputs": [],
   "source": [
    "import tensorflow as tf"
   ]
  },
  {
   "cell_type": "code",
   "execution_count": 7,
   "metadata": {
    "collapsed": true
   },
   "outputs": [],
   "source": [
    "# Create a Constant op that produces a 1x2 matrix, the op is added as a node to the default graph\n",
    "\n",
    "matrix1 = tf.constant([[3., 3.]])"
   ]
  },
  {
   "cell_type": "code",
   "execution_count": 8,
   "metadata": {
    "collapsed": false
   },
   "outputs": [],
   "source": [
    "# Create another Constant op that produces a 2x1 "
   ]
  },
  {
   "cell_type": "code",
   "execution_count": 10,
   "metadata": {
    "collapsed": true
   },
   "outputs": [],
   "source": [
    "matrix2 = tf.constant([[2.], [1.5]])"
   ]
  },
  {
   "cell_type": "code",
   "execution_count": 11,
   "metadata": {
    "collapsed": false
   },
   "outputs": [],
   "source": [
    "# Create a \"Matmul\" op that takes 'matrix1' and 'matrix2' as inputs \n",
    "# and returns 'product' which is the matrix multiplication\n",
    "\n",
    "product = tf.matmul(matrix1, matrix2)"
   ]
  },
  {
   "cell_type": "markdown",
   "metadata": {},
   "source": [
    "The above graph (the default graph) contains 3 nodes now, one \"Matmul\" node and two \"Constant\" nodes"
   ]
  },
  {
   "cell_type": "markdown",
   "metadata": {},
   "source": [
    "To actually multiply, we need to run the graph in a sesssion.\n",
    "\n",
    "To run matmul op, we call the session's \"run()\" method and pass to it the output of the matmul op \"product\".\n",
    "\n",
    "This means we need to get the output of the matmul op back.\n",
    "\n",
    "The call to \"run()\" causes the three nodes to execute. the result is a numpy ndarray object, after that, the session needs to be closed to release resources"
   ]
  },
  {
   "cell_type": "code",
   "execution_count": 15,
   "metadata": {
    "collapsed": false
   },
   "outputs": [
    {
     "name": "stdout",
     "output_type": "stream",
     "text": [
      "[[ 10.5]]\n"
     ]
    }
   ],
   "source": [
    "# Create a session\n",
    "sess = tf.Session()\n",
    "\n",
    "# pass \"product\" to \"run()\" of sess\n",
    "result = sess.run(product)\n",
    "\n",
    "print(result)"
   ]
  },
  {
   "cell_type": "code",
   "execution_count": 16,
   "metadata": {
    "collapsed": true
   },
   "outputs": [],
   "source": [
    "# Close the session to release resources\n",
    "sess.close()"
   ]
  },
  {
   "cell_type": "markdown",
   "metadata": {},
   "source": [
    "To close the session automatically, we enter the Session with a \"with\" block as follows:"
   ]
  },
  {
   "cell_type": "code",
   "execution_count": 17,
   "metadata": {
    "collapsed": false
   },
   "outputs": [
    {
     "name": "stdout",
     "output_type": "stream",
     "text": [
      "[[ 10.5]]\n"
     ]
    }
   ],
   "source": [
    "with tf.Session() as sess:\n",
    "    result = sess.run(product)\n",
    "    print result"
   ]
  },
  {
   "cell_type": "markdown",
   "metadata": {},
   "source": [
    "## Interactivity"
   ]
  },
  {
   "cell_type": "markdown",
   "metadata": {},
   "source": [
    "For use in IPython, we can use **InteractiveSession** instead of **Session** class, adn the **Tensor.eval()** and **Operation.run()** methods. This avoids having to keep a variable holding the session"
   ]
  },
  {
   "cell_type": "code",
   "execution_count": 19,
   "metadata": {
    "collapsed": false
   },
   "outputs": [
    {
     "name": "stdout",
     "output_type": "stream",
     "text": [
      "[-2. -1.]\n"
     ]
    }
   ],
   "source": [
    "# Enter an interactive TensorFlow Session\n",
    "sess = tf.InteractiveSession()\n",
    "\n",
    "x = tf.Variable([1.0, 2.0])\n",
    "a = tf.constant([3.0, 3.0])\n",
    "\n",
    "# Initialize 'x' using the run() method of its initializer op\n",
    "# Notice: We are not calling the \"run\" for the session here.\n",
    "x.initializer.run()\n",
    "\n",
    "# Add an op to substract 'a' from 'x' and Run it to print the results\n",
    "sub = tf.sub(x, a)\n",
    "print(sub.eval())\n",
    "\n",
    "sess.close()"
   ]
  },
  {
   "cell_type": "markdown",
   "metadata": {},
   "source": [
    "## Tensors"
   ]
  },
  {
   "cell_type": "markdown",
   "metadata": {},
   "source": [
    "TensorFlow programs use tensors data structures to represent all data, and only tensors are passed between operations in the computation_graph.\n",
    "A tensor can be thought of as a list, or n-dimensional array, and it has a rank, shape and static type.\n",
    "\n",
    "* Rank(n-dimension, order, degree): not the same as matrix rank, it is the number of dimensions of the tensor\n",
    "  * A rank-2 tensor is a matrix, a rank-1 tensor is a vector, in a rank-3 tensor t we address an element by t[i,j,k]\n",
    "* Shape: represented by python lists -> [numRows, numCols] for a rank-2 (2D) tensor, etc...\n",
    "* Type: DT_FOAT, DT_DOUBLE, DT_INT32, .... etc"
   ]
  },
  {
   "cell_type": "markdown",
   "metadata": {},
   "source": [
    "## Variables"
   ]
  },
  {
   "cell_type": "markdown",
   "metadata": {},
   "source": [
    "Variables maintain state of the graph though execution"
   ]
  },
  {
   "cell_type": "code",
   "execution_count": 20,
   "metadata": {
    "collapsed": true
   },
   "outputs": [],
   "source": [
    "# Create a variable, initialize to zero and use it as a counter\n",
    "state = tf.Variable(0, name=\"counter\")"
   ]
  },
  {
   "cell_type": "code",
   "execution_count": 23,
   "metadata": {
    "collapsed": true
   },
   "outputs": [],
   "source": [
    "# Create an op to add one to the state\n",
    "one = tf.constant(1)\n",
    "new_value = tf.add(state, one) # a new node for the add_counter_by_1 operation\n",
    "update=tf.assign(state, new_value) # state = new_value\n",
    "# add() and assing() are part of the expression graph\n",
    "# Addition will not be executed until run() executes the expression\n",
    "\n",
    "# Variables - \"state\" in this case - must be initialized bt runninf an 'init' op after\n",
    "# having launched the graph - equivalent to sess.run() - .. But we need to add the \n",
    "# 'init' op to the graph.\n",
    "init_op = tf.initialize_all_variables()"
   ]
  },
  {
   "cell_type": "code",
   "execution_count": 24,
   "metadata": {
    "collapsed": false
   },
   "outputs": [
    {
     "name": "stdout",
     "output_type": "stream",
     "text": [
      "0\n",
      "1\n",
      "2\n",
      "3\n",
      "4\n",
      "5\n"
     ]
    }
   ],
   "source": [
    "# Launch the graph and run the ops.\n",
    "with tf.Session() as sess:\n",
    "    # Run the 'init' op to initialize the variable \"state\" to zero\n",
    "    sess.run(init_op)\n",
    "    # Print the initial value of \"state\"\n",
    "    print(sess.run(state))\n",
    "    # Run the op that updates 'state' and print 'state'\n",
    "    for _ in range(5):\n",
    "        sess.run(update)\n",
    "        print sess.run(state)\n",
    "    "
   ]
  },
  {
   "cell_type": "markdown",
   "metadata": {},
   "source": [
    "## Fetches\n",
    "\n",
    "How to fetch multiple tensors from multiple ops at the same time?"
   ]
  },
  {
   "cell_type": "code",
   "execution_count": 28,
   "metadata": {
    "collapsed": false
   },
   "outputs": [
    {
     "name": "stdout",
     "output_type": "stream",
     "text": [
      "[21.0, 7.0]\n"
     ]
    }
   ],
   "source": [
    "input1 = tf.constant(3.0)\n",
    "input2 = tf.constant(2.0)\n",
    "input3 = tf.constant(5.0)\n",
    "intermed = tf.add(input2, input3)\n",
    "mul = tf.mul(input1, intermed)\n",
    "\n",
    "with tf.Session() as sess:\n",
    "    \n",
    "    # Here we pass to run() multiple ops [mul, intermed] to retrieve multiple tensors at the same time   \n",
    "    result=sess.run([mul, intermed])\n",
    "    # We retrive a tensor from each op, and return a list of the returned tensors    \n",
    "    print(result)"
   ]
  },
  {
   "cell_type": "markdown",
   "metadata": {},
   "source": [
    "## Feeds\n",
    "\n",
    "Instead of storing tensors in Variables and Constants, we can hold a place for them and with a **feed mechanism** we can patch a tensor directly into an operation in the graph.\n",
    "\n",
    "A feed temporarily replaces the output of an operation with a tensor value. You supply feed data as an argument to run().\n",
    "\n",
    "The feed is **only used** for the run call to which it is passed. "
   ]
  },
  {
   "cell_type": "code",
   "execution_count": 31,
   "metadata": {
    "collapsed": false
   },
   "outputs": [
    {
     "name": "stdout",
     "output_type": "stream",
     "text": [
      "[array([ 14.], dtype=float32)]\n"
     ]
    }
   ],
   "source": [
    "input1 = tf.placeholder(tf.float32)\n",
    "input2 = tf.placeholder(tf.float32)\n",
    "\n",
    "output = tf.mul(input1, input2)\n",
    "\n",
    "with tf.Session() as sess:\n",
    "    # For the session, call run() and pass for it: The node/op for which we need the \n",
    "    # output tensor, and a dict with two (key,val) pairs to patch the placeholders \n",
    "    # (vals here should be tf.float32)\n",
    "    print(sess.run([output], feed_dict={input1:[7.], input2:[2.]}))"
   ]
  },
  {
   "cell_type": "code",
   "execution_count": null,
   "metadata": {
    "collapsed": true
   },
   "outputs": [],
   "source": []
  }
 ],
 "metadata": {
  "kernelspec": {
   "display_name": "Python 2",
   "language": "python",
   "name": "python2"
  },
  "language_info": {
   "codemirror_mode": {
    "name": "ipython",
    "version": 2
   },
   "file_extension": ".py",
   "mimetype": "text/x-python",
   "name": "python",
   "nbconvert_exporter": "python",
   "pygments_lexer": "ipython2",
   "version": "2.7.10"
  }
 },
 "nbformat": 4,
 "nbformat_minor": 0
}
